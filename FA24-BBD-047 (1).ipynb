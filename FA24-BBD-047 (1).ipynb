{
 "cells": [
  {
   "cell_type": "code",
   "execution_count": 21,
   "id": "e9364566-dcf1-4056-a23c-349b04769e26",
   "metadata": {},
   "outputs": [
    {
     "name": "stdout",
     "output_type": "stream",
     "text": [
      "Hello, Alice! The current time is 2024-11-28 12:32:05.\n"
     ]
    }
   ],
   "source": [
    "from datetime import datetime\n",
    "\n",
    "def greet_with_time(name):\n",
    "  \n",
    "    current_time = datetime.now().strftime(\"%Y-%m-%d %H:%M:%S\")\n",
    "    # Print the greeting\n",
    "    print(f\"Hello, {name}! The current time is {current_time}.\")\n",
    "\n",
    "# Example usage\n",
    "greet_with_time(\"Alice\")\n"
   ]
  },
  {
   "cell_type": "code",
   "execution_count": 9,
   "id": "4d276545-4929-4ae3-8e61-f2adc44277ec",
   "metadata": {},
   "outputs": [
    {
     "name": "stdout",
     "output_type": "stream",
     "text": [
      "The average is: 20.0\n"
     ]
    }
   ],
   "source": [
    "def calculate_average(num1, num2, num3):\n",
    "    average = (num1 + num2 + num3) / 3\n",
    "    return average\n",
    "\n",
    "# Example usage\n",
    "result = calculate_average(10, 20, 30)\n",
    "print(f\"The average is: {result}\")"
   ]
  },
  {
   "cell_type": "code",
   "execution_count": 11,
   "id": "78c36928-c68e-4aac-aabd-d515914bb8a4",
   "metadata": {},
   "outputs": [
    {
     "name": "stdout",
     "output_type": "stream",
     "text": [
      "The final price after a 10% discount is: 90.0\n",
      "The final price after a 20% discount is: 80.0\n"
     ]
    }
   ],
   "source": [
    "def calculate_discount(price, discount_percentage=10):\n",
    "   \n",
    "    discount_amount = (discount_percentage / 100) * price\n",
    "   \n",
    "    final_price = price - discount_amount\n",
    "    return final_price\n",
    "original_price = 100.0\n",
    "final_price = calculate_discount(original_price)\n",
    "print(f\"The final price after a 10% discount is: {final_price}\")\n",
    "custom_discount_price = calculate_discount(original_price, 20)\n",
    "print(f\"The final price after a 20% discount is: {custom_discount_price}\")\n"
   ]
  },
  {
   "cell_type": "code",
   "execution_count": 17,
   "id": "2ba9b52c-d824-4a7f-8cec-869f95ec713b",
   "metadata": {},
   "outputs": [
    {
     "name": "stdout",
     "output_type": "stream",
     "text": [
      "Name: Alice\n",
      "Age: 30\n",
      "City: New York\n"
     ]
    }
   ],
   "source": [
    "def print_info(*, name, age, city):\n",
    "    \"\"\"\n",
    "    Prints information about a person using keyword arguments.\n",
    "    \n",
    "    Args:\n",
    "        name (str): The name of the person.\n",
    "        age (int): The age of the person.\n",
    "        city (str): The city the person lives in.\n",
    "    \"\"\"\n",
    "    print(f\"Name: {name}\")\n",
    "    print(f\"Age: {age}\")\n",
    "    print(f\"City: {city}\")\n",
    "\n",
    "# Example usage\n",
    "print_info(name=\"Alice\", age=30, city=\"New York\")\n"
   ]
  },
  {
   "cell_type": "code",
   "execution_count": 19,
   "id": "3bbdf62f-f124-4d52-86ea-47fc1788779b",
   "metadata": {},
   "outputs": [
    {
     "name": "stdout",
     "output_type": "stream",
     "text": [
      "The maximum value is: 40\n",
      "The result for no arguments is: None\n"
     ]
    }
   ],
   "source": [
    "def find_max(*args):\n",
    "   \n",
    "    if not args: \n",
    "        return None\n",
    "    return max(args)\n",
    "max_value = find_max(10, 20, 5, 40, 15)\n",
    "print(f\"The maximum value is: {max_value}\")\n",
    "empty_max = find_max()\n",
    "print(f\"The result for no arguments is: {empty_max}\")\n"
   ]
  },
  {
   "cell_type": "code",
   "execution_count": 23,
   "id": "0e24317a-3aad-48e1-aa2f-a53130690cdb",
   "metadata": {},
   "outputs": [
    {
     "name": "stdout",
     "output_type": "stream",
     "text": [
      "The factorial of 5 is: 120\n"
     ]
    }
   ],
   "source": [
    "def factorial(n):\n",
    "   \n",
    "    if n < 0:\n",
    "        raise ValueError(\"Factorial is not defined for negative numbers.\")\n",
    "    if n == 0 or n == 1:  # Base case\n",
    "        return 1\n",
    "    return n * factorial(n - 1)  # Recursive case\n",
    "try:\n",
    "    num = 5\n",
    "    print(f\"The factorial of {num} is: {factorial(num)}\")\n",
    "except ValueError as e:\n",
    "    print(e)\n"
   ]
  },
  {
   "cell_type": "code",
   "execution_count": 25,
   "id": "ccbc9be5-a822-4257-bc49-fa1227ee04a4",
   "metadata": {},
   "outputs": [
    {
     "name": "stdout",
     "output_type": "stream",
     "text": [
      "Squared numbers: [1, 4, 9, 16, 25]\n",
      "Doubled numbers: [2, 4, 6, 8, 10]\n"
     ]
    }
   ],
   "source": [
    "def apply_function(func, numbers):\n",
    "   \n",
    "    return [func(num) for num in numbers]\n",
    "def square(x):\n",
    "    return x ** 2\n",
    "\n",
    "numbers = [1, 2, 3, 4, 5]\n",
    "result = apply_function(square, numbers)\n",
    "print(f\"Squared numbers: {result}\")\n",
    "result_with_lambda = apply_function(lambda x: x * 2, numbers)\n",
    "print(f\"Doubled numbers: {result_with_lambda}\")\n"
   ]
  },
  {
   "cell_type": "code",
   "execution_count": 27,
   "id": "b8fab0b7-3c01-41ee-b6ec-689c4f4ff40c",
   "metadata": {},
   "outputs": [
    {
     "name": "stdout",
     "output_type": "stream",
     "text": [
      "16\n",
      "49\n"
     ]
    }
   ],
   "source": [
    "square = lambda x: x ** 2\n",
    "print(square(4))  \n",
    "print(square(7))  \n"
   ]
  },
  {
   "cell_type": "code",
   "execution_count": 29,
   "id": "f1a89c1a-c4bf-487f-a196-72ff0cb3683f",
   "metadata": {},
   "outputs": [
    {
     "name": "stdout",
     "output_type": "stream",
     "text": [
      "Doubled numbers: [2, 4, 6, 8, 10]\n",
      "Squared numbers: [1, 4, 9, 16, 25]\n"
     ]
    }
   ],
   "source": [
    "def apply_operation(operation, numbers):\n",
    "   \n",
    "    return [operation(num) for num in numbers]\n",
    "def double(x):\n",
    "    return x * 2\n",
    "\n",
    "numbers = [1, 2, 3, 4, 5]\n",
    "result = apply_operation(double, numbers)\n",
    "print(f\"Doubled numbers: {result}\")\n",
    "\n",
    "# Using a lambda function\n",
    "result_with_lambda = apply_operation(lambda x: x ** 2, numbers)\n",
    "print(f\"Squared numbers: {result_with_lambda}\")\n"
   ]
  },
  {
   "cell_type": "code",
   "execution_count": 31,
   "id": "c3ca6a25-dd12-4797-8997-b876fc5383a9",
   "metadata": {},
   "outputs": [
    {
     "name": "stdout",
     "output_type": "stream",
     "text": [
      "Execution time of example_function: 2.000646 seconds\n"
     ]
    }
   ],
   "source": [
    "import time\n",
    "\n",
    "def measure_execution_time(func):\n",
    "  \n",
    "    def wrapper(*args, **kwargs):\n",
    "        start_time = time.time()  # Record the start time\n",
    "        result = func(*args, **kwargs)  # Call the original function\n",
    "        end_time = time.time()  # Record the end time\n",
    "        execution_time = end_time - start_time  # Calculate the time taken\n",
    "        print(f\"Execution time of {func.__name__}: {execution_time:.6f} seconds\")\n",
    "        return result\n",
    "    return wrapper\n",
    "\n",
    "\n",
    "@measure_execution_time\n",
    "def example_function():\n",
    "   \n",
    "    time.sleep(2) \n",
    "\n",
    "example_function()\n"
   ]
  },
  {
   "cell_type": "code",
   "execution_count": null,
   "id": "fb1b7a5b-f2e9-490f-a2db-e570de1291b8",
   "metadata": {},
   "outputs": [],
   "source": []
  }
 ],
 "metadata": {
  "kernelspec": {
   "display_name": "Python 3 (ipykernel)",
   "language": "python",
   "name": "python3"
  },
  "language_info": {
   "codemirror_mode": {
    "name": "ipython",
    "version": 3
   },
   "file_extension": ".py",
   "mimetype": "text/x-python",
   "name": "python",
   "nbconvert_exporter": "python",
   "pygments_lexer": "ipython3",
   "version": "3.12.7"
  }
 },
 "nbformat": 4,
 "nbformat_minor": 5
}
